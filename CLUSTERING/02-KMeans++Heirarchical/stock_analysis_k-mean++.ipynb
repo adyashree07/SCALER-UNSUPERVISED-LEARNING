{
 "cells": [
  {
   "cell_type": "markdown",
   "metadata": {
    "id": "PCFEh1XdOZpa"
   },
   "source": [
    "## Stocks Data Pre-Processing"
   ]
  },
  {
   "cell_type": "markdown",
   "metadata": {
    "id": "-jxTKQrWwM9O"
   },
   "source": [
    "**Dataset - Top 50 NSE stocks**\n",
    "\n",
    "- Contains company's stock symbol\n",
    "- Name, Industry and other details"
   ]
  },
  {
   "cell_type": "markdown",
   "metadata": {
    "id": "-AraW_V3kBJO"
   },
   "source": [
    "Lets import the dependencies"
   ]
  },
  {
   "cell_type": "code",
   "execution_count": 1,
   "metadata": {
    "id": "AL3bzySbyWx2"
   },
   "outputs": [],
   "source": [
    "import pandas as pd\n",
    "import numpy as np\n",
    "from matplotlib import pyplot as plt\n",
    "plt.rcParams[\"figure.figsize\"] = (18,10)\n",
    "import seaborn as sns"
   ]
  },
  {
   "cell_type": "markdown",
   "metadata": {
    "id": "WxTPNfd4kDqj"
   },
   "source": [
    "Reading the data"
   ]
  },
  {
   "cell_type": "markdown",
   "metadata": {
    "id": "983IniTq4GJE"
   },
   "source": [
    "**Installing yfinance**\n",
    "\n",
    "\n",
    "- **yfinance** is a library that helps us download market data from yahoo finance's api.\n",
    "\n",
    "- So lets install these libraries into our environment using pip.\n",
    "\n",
    "- You can read more about it <a href=\"https://pypi.org/project/yfinance/\"> here </a>\n"
   ]
  },
  {
   "cell_type": "code",
   "execution_count": 12,
   "metadata": {
    "colab": {
     "base_uri": "https://localhost:8080/"
    },
    "id": "-5EPONdlyldY",
    "outputId": "4a45614e-7872-4a54-9eec-bb92e94cc71a"
   },
   "outputs": [
    {
     "name": "stdout",
     "output_type": "stream",
     "text": [
      "Collecting yfinance\n",
      "  Using cached yfinance-0.2.33-py2.py3-none-any.whl (69 kB)\n",
      "Collecting requests>=2.31\n",
      "  Using cached requests-2.31.0-py3-none-any.whl (62 kB)\n",
      "Requirement already satisfied: appdirs>=1.4.4 in /Users/adyashreemahapatra/miniconda3/lib/python3.10/site-packages (from yfinance) (1.4.4)\n",
      "Requirement already satisfied: pytz>=2022.5 in /Users/adyashreemahapatra/miniconda3/lib/python3.10/site-packages (from yfinance) (2023.3)\n",
      "Collecting multitasking>=0.0.7\n",
      "  Using cached multitasking-0.0.11-py3-none-any.whl (8.5 kB)\n",
      "Collecting frozendict>=2.3.4\n",
      "  Using cached frozendict-2.3.10-cp310-cp310-macosx_10_9_x86_64.whl (36 kB)\n",
      "Collecting html5lib>=1.1\n",
      "  Using cached html5lib-1.1-py2.py3-none-any.whl (112 kB)\n",
      "Requirement already satisfied: pandas>=1.3.0 in /Users/adyashreemahapatra/miniconda3/lib/python3.10/site-packages (from yfinance) (1.5.3)\n",
      "Collecting beautifulsoup4>=4.11.1\n",
      "  Using cached beautifulsoup4-4.12.2-py3-none-any.whl (142 kB)\n",
      "Collecting peewee>=3.16.2\n",
      "  Using cached peewee-3.17.0.tar.gz (2.9 MB)\n",
      "  Installing build dependencies ... \u001b[?25ldone\n",
      "\u001b[?25h  Getting requirements to build wheel ... \u001b[?25ldone\n",
      "\u001b[?25h  Preparing metadata (pyproject.toml) ... \u001b[?25ldone\n",
      "\u001b[?25hCollecting lxml>=4.9.1\n",
      "  Using cached lxml-4.9.3.tar.gz (3.6 MB)\n",
      "  Preparing metadata (setup.py) ... \u001b[?25ldone\n",
      "\u001b[?25hRequirement already satisfied: numpy>=1.16.5 in /Users/adyashreemahapatra/miniconda3/lib/python3.10/site-packages (from yfinance) (1.24.2)\n",
      "Collecting soupsieve>1.2\n",
      "  Using cached soupsieve-2.5-py3-none-any.whl (36 kB)\n",
      "Requirement already satisfied: six>=1.9 in /Users/adyashreemahapatra/miniconda3/lib/python3.10/site-packages (from html5lib>=1.1->yfinance) (1.16.0)\n",
      "Collecting webencodings\n",
      "  Using cached webencodings-0.5.1-py2.py3-none-any.whl (11 kB)\n",
      "\u001b[31mERROR: Could not install packages due to an OSError: [Errno 2] No such file or directory: '/Users/adyashreemahapatra/miniconda3/lib/python3.10/site-packages/numpy-1.24.2.dist-info/METADATA'\n",
      "\u001b[0m\u001b[31m\n",
      "\u001b[0mCollecting fix-yahoo-finance\n",
      "  Using cached fix-yahoo-finance-0.1.37.tar.gz (6.3 kB)\n",
      "  Preparing metadata (setup.py) ... \u001b[?25lerror\n",
      "  \u001b[1;31merror\u001b[0m: \u001b[1msubprocess-exited-with-error\u001b[0m\n",
      "  \n",
      "  \u001b[31m×\u001b[0m \u001b[32mpython setup.py egg_info\u001b[0m did not run successfully.\n",
      "  \u001b[31m│\u001b[0m exit code: \u001b[1;36m1\u001b[0m\n",
      "  \u001b[31m╰─>\u001b[0m \u001b[31m[8 lines of output]\u001b[0m\n",
      "  \u001b[31m   \u001b[0m Traceback (most recent call last):\n",
      "  \u001b[31m   \u001b[0m   File \"<string>\", line 2, in <module>\n",
      "  \u001b[31m   \u001b[0m   File \"<pip-setuptools-caller>\", line 34, in <module>\n",
      "  \u001b[31m   \u001b[0m   File \"/private/var/folders/98/5g1hlvfj4rz9jcx_8knly1s00000gn/T/pip-install-2u24f79d/fix-yahoo-finance_4013c0991c8f4b229bd258ab0e2be109/setup.py\", line 19, in <module>\n",
      "  \u001b[31m   \u001b[0m     from fix_yahoo_finance import __version__\n",
      "  \u001b[31m   \u001b[0m   File \"/private/var/folders/98/5g1hlvfj4rz9jcx_8knly1s00000gn/T/pip-install-2u24f79d/fix-yahoo-finance_4013c0991c8f4b229bd258ab0e2be109/fix_yahoo_finance/__init__.py\", line 22, in <module>\n",
      "  \u001b[31m   \u001b[0m     import yfinance\n",
      "  \u001b[31m   \u001b[0m ModuleNotFoundError: No module named 'yfinance'\n",
      "  \u001b[31m   \u001b[0m \u001b[31m[end of output]\u001b[0m\n",
      "  \n",
      "  \u001b[1;35mnote\u001b[0m: This error originates from a subprocess, and is likely not a problem with pip.\n",
      "\u001b[1;31merror\u001b[0m: \u001b[1mmetadata-generation-failed\u001b[0m\n",
      "\n",
      "\u001b[31m×\u001b[0m Encountered error while generating package metadata.\n",
      "\u001b[31m╰─>\u001b[0m See above for output.\n",
      "\n",
      "\u001b[1;35mnote\u001b[0m: This is an issue with the package mentioned above, not pip.\n",
      "\u001b[1;36mhint\u001b[0m: See above for details.\n",
      "\u001b[?25h"
     ]
    }
   ],
   "source": [
    "!pip install yfinance"
   ]
  },
  {
   "cell_type": "code",
   "execution_count": 7,
   "metadata": {
    "colab": {
     "base_uri": "https://localhost:8080/"
    },
    "id": "ML00dT13ynVU",
    "outputId": "20dadce2-4a18-48be-dcdf-94f328afb49b"
   },
   "outputs": [],
   "source": [
    "# # Since yfinance is an old library, it also has some glitches, so we install this library as a fix\n",
    "# !pip install fix-yahoo-finance"
   ]
  },
  {
   "cell_type": "markdown",
   "metadata": {
    "id": "NlivxNOm4gOk"
   },
   "source": [
    "**Importing Data**\n",
    "\n",
    "- Purpose of this dataset: Getting list of Company names which are stored in the 'Symbol' column of the data"
   ]
  },
  {
   "cell_type": "code",
   "execution_count": 8,
   "metadata": {
    "colab": {
     "base_uri": "https://localhost:8080/",
     "height": 206
    },
    "id": "ajZ14NwMyjBw",
    "outputId": "ec90f0c5-6b73-4fbd-ed4d-42cae2d04412"
   },
   "outputs": [
    {
     "data": {
      "text/html": [
       "<div>\n",
       "<style scoped>\n",
       "    .dataframe tbody tr th:only-of-type {\n",
       "        vertical-align: middle;\n",
       "    }\n",
       "\n",
       "    .dataframe tbody tr th {\n",
       "        vertical-align: top;\n",
       "    }\n",
       "\n",
       "    .dataframe thead th {\n",
       "        text-align: right;\n",
       "    }\n",
       "</style>\n",
       "<table border=\"1\" class=\"dataframe\">\n",
       "  <thead>\n",
       "    <tr style=\"text-align: right;\">\n",
       "      <th></th>\n",
       "      <th>Company Name</th>\n",
       "      <th>Industry</th>\n",
       "      <th>Symbol</th>\n",
       "      <th>Series</th>\n",
       "      <th>ISIN Code</th>\n",
       "    </tr>\n",
       "  </thead>\n",
       "  <tbody>\n",
       "    <tr>\n",
       "      <th>0</th>\n",
       "      <td>Adani Ports and Special Economic Zone Ltd.</td>\n",
       "      <td>SERVICES</td>\n",
       "      <td>ADANIPORTS</td>\n",
       "      <td>EQ</td>\n",
       "      <td>INE742F01042</td>\n",
       "    </tr>\n",
       "    <tr>\n",
       "      <th>1</th>\n",
       "      <td>Asian Paints Ltd.</td>\n",
       "      <td>CONSUMER GOODS</td>\n",
       "      <td>ASIANPAINT</td>\n",
       "      <td>EQ</td>\n",
       "      <td>INE021A01026</td>\n",
       "    </tr>\n",
       "    <tr>\n",
       "      <th>2</th>\n",
       "      <td>Axis Bank Ltd.</td>\n",
       "      <td>FINANCIAL SERVICES</td>\n",
       "      <td>AXISBANK</td>\n",
       "      <td>EQ</td>\n",
       "      <td>INE238A01034</td>\n",
       "    </tr>\n",
       "    <tr>\n",
       "      <th>3</th>\n",
       "      <td>Bajaj Auto Ltd.</td>\n",
       "      <td>AUTOMOBILE</td>\n",
       "      <td>BAJAJ-AUTO</td>\n",
       "      <td>EQ</td>\n",
       "      <td>INE917I01010</td>\n",
       "    </tr>\n",
       "    <tr>\n",
       "      <th>4</th>\n",
       "      <td>Bajaj Finance Ltd.</td>\n",
       "      <td>FINANCIAL SERVICES</td>\n",
       "      <td>BAJFINANCE</td>\n",
       "      <td>EQ</td>\n",
       "      <td>INE296A01024</td>\n",
       "    </tr>\n",
       "  </tbody>\n",
       "</table>\n",
       "</div>"
      ],
      "text/plain": [
       "                                 Company Name            Industry      Symbol  \\\n",
       "0  Adani Ports and Special Economic Zone Ltd.            SERVICES  ADANIPORTS   \n",
       "1                           Asian Paints Ltd.      CONSUMER GOODS  ASIANPAINT   \n",
       "2                              Axis Bank Ltd.  FINANCIAL SERVICES    AXISBANK   \n",
       "3                             Bajaj Auto Ltd.          AUTOMOBILE  BAJAJ-AUTO   \n",
       "4                          Bajaj Finance Ltd.  FINANCIAL SERVICES  BAJFINANCE   \n",
       "\n",
       "  Series     ISIN Code  \n",
       "0     EQ  INE742F01042  \n",
       "1     EQ  INE021A01026  \n",
       "2     EQ  INE238A01034  \n",
       "3     EQ  INE917I01010  \n",
       "4     EQ  INE296A01024  "
      ]
     },
     "execution_count": 8,
     "metadata": {},
     "output_type": "execute_result"
    }
   ],
   "source": [
    "stocks_df = pd.read_csv(\"ind_nifty50list.csv\")\n",
    "list_of_symbols = list(stocks_df['Symbol'])\n",
    "stocks_df.head()"
   ]
  },
  {
   "cell_type": "markdown",
   "metadata": {
    "id": "g4iK3ZRwysT3"
   },
   "source": [
    "**Now, we'll take symbols from original dataset**\n",
    "- We'll add `.NS` at the end of every symbol to fetch data from Yahoo Finance based on company's symbol."
   ]
  },
  {
   "cell_type": "code",
   "execution_count": 9,
   "metadata": {
    "colab": {
     "base_uri": "https://localhost:8080/"
    },
    "id": "EuMr7NdCypuY",
    "outputId": "201383ef-9f66-49b7-cdf4-889be0d40d18"
   },
   "outputs": [
    {
     "data": {
      "text/plain": [
       "['ADANIPORTS.NS',\n",
       " 'ASIANPAINT.NS',\n",
       " 'AXISBANK.NS',\n",
       " 'BAJAJ-AUTO.NS',\n",
       " 'BAJFINANCE.NS',\n",
       " 'BAJAJFINSV.NS',\n",
       " 'BPCL.NS',\n",
       " 'BHARTIARTL.NS',\n",
       " 'BRITANNIA.NS',\n",
       " 'CIPLA.NS',\n",
       " 'COALINDIA.NS',\n",
       " 'DIVISLAB.NS',\n",
       " 'DRREDDY.NS',\n",
       " 'EICHERMOT.NS',\n",
       " 'GRASIM.NS',\n",
       " 'HCLTECH.NS',\n",
       " 'HDFCBANK.NS',\n",
       " 'HDFCLIFE.NS',\n",
       " 'HEROMOTOCO.NS',\n",
       " 'HINDALCO.NS',\n",
       " 'HINDUNILVR.NS',\n",
       " 'HDFC.NS',\n",
       " 'ICICIBANK.NS',\n",
       " 'ITC.NS',\n",
       " 'IOC.NS',\n",
       " 'INDUSINDBK.NS',\n",
       " 'INFY.NS',\n",
       " 'JSWSTEEL.NS',\n",
       " 'KOTAKBANK.NS',\n",
       " 'LT.NS',\n",
       " 'M&M.NS',\n",
       " 'MARUTI.NS',\n",
       " 'NTPC.NS',\n",
       " 'NESTLEIND.NS',\n",
       " 'ONGC.NS',\n",
       " 'POWERGRID.NS',\n",
       " 'RELIANCE.NS',\n",
       " 'SBILIFE.NS',\n",
       " 'SHREECEM.NS',\n",
       " 'SBIN.NS',\n",
       " 'SUNPHARMA.NS',\n",
       " 'TCS.NS',\n",
       " 'TATACONSUM.NS',\n",
       " 'TATAMOTORS.NS',\n",
       " 'TATASTEEL.NS',\n",
       " 'TECHM.NS',\n",
       " 'TITAN.NS',\n",
       " 'UPL.NS',\n",
       " 'ULTRACEMCO.NS',\n",
       " 'WIPRO.NS']"
      ]
     },
     "execution_count": 9,
     "metadata": {},
     "output_type": "execute_result"
    }
   ],
   "source": [
    "yf_symbols = list(map(lambda x: x + '.NS', list_of_symbols))\n",
    "yf_symbols"
   ]
  },
  {
   "cell_type": "markdown",
   "metadata": {
    "id": "eU8G_70DwyDe"
   },
   "source": [
    "**Now, we'll define some variables and fetch the corresponding data from Yahoo Finance for the companies in our list**"
   ]
  },
  {
   "cell_type": "markdown",
   "metadata": {
    "id": "TLahEW2009ZT"
   },
   "source": [
    "> **NOTE**:\n",
    "- Below given given takes a lot of time!"
   ]
  },
  {
   "cell_type": "code",
   "execution_count": 10,
   "metadata": {
    "id": "u2VI_5rCwoVu"
   },
   "outputs": [
    {
     "ename": "ModuleNotFoundError",
     "evalue": "No module named 'yfinance'",
     "output_type": "error",
     "traceback": [
      "\u001b[0;31m---------------------------------------------------------------------------\u001b[0m",
      "\u001b[0;31mModuleNotFoundError\u001b[0m                       Traceback (most recent call last)",
      "Input \u001b[0;32mIn [10]\u001b[0m, in \u001b[0;36m<cell line: 1>\u001b[0;34m()\u001b[0m\n\u001b[0;32m----> 1\u001b[0m \u001b[38;5;28;01mimport\u001b[39;00m \u001b[38;5;21;01myfinance\u001b[39;00m \u001b[38;5;28;01mas\u001b[39;00m \u001b[38;5;21;01myf\u001b[39;00m\n\u001b[1;32m      4\u001b[0m stock_financials \u001b[38;5;241m=\u001b[39m {\n\u001b[1;32m      5\u001b[0m     \u001b[38;5;124m'\u001b[39m\u001b[38;5;124mmarketCap\u001b[39m\u001b[38;5;124m'\u001b[39m: [],\n\u001b[1;32m      6\u001b[0m     \u001b[38;5;124m'\u001b[39m\u001b[38;5;124mregularMarketVolume\u001b[39m\u001b[38;5;124m'\u001b[39m: [],\n\u001b[0;32m   (...)\u001b[0m\n\u001b[1;32m     12\u001b[0m     \u001b[38;5;124m'\u001b[39m\u001b[38;5;124mearningsGrowth\u001b[39m\u001b[38;5;124m'\u001b[39m: []\n\u001b[1;32m     13\u001b[0m     }\n\u001b[1;32m     15\u001b[0m \u001b[38;5;28;01mfor\u001b[39;00m ticker \u001b[38;5;129;01min\u001b[39;00m yf_symbols:\n",
      "\u001b[0;31mModuleNotFoundError\u001b[0m: No module named 'yfinance'"
     ]
    }
   ],
   "source": [
    "import yfinance as yf\n",
    "\n",
    "\n",
    "stock_financials = {\n",
    "    'marketCap': [],\n",
    "    'regularMarketVolume': [],\n",
    "    'earningsQuarterlyGrowth': [],\n",
    "    'bookValue': [],\n",
    "    'totalRevenue': [],\n",
    "    'returnOnAssets': [],\n",
    "    'profitMargins': [],\n",
    "    'earningsGrowth': []\n",
    "    }\n",
    "\n",
    "for ticker in yf_symbols:\n",
    "    stock_info = yf.Ticker(ticker).info\n",
    "    stock_financials['marketCap'].append(stock_info['marketCap'])\n",
    "    stock_financials['regularMarketVolume'].append(stock_info['regularMarketVolume'])\n",
    "    stock_financials['earningsQuarterlyGrowth'].append(stock_info['earningsQuarterlyGrowth'])\n",
    "    stock_financials['bookValue'].append(stock_info['bookValue'])\n",
    "    stock_financials['totalRevenue'].append(stock_info['totalRevenue'])\n",
    "    stock_financials['returnOnAssets'].append(stock_info['returnOnAssets'])\n",
    "    stock_financials['profitMargins'].append(stock_info['profitMargins'])\n",
    "    stock_financials['earningsGrowth'].append(stock_info['earningsGrowth'])"
   ]
  },
  {
   "cell_type": "markdown",
   "metadata": {
    "id": "pfI_75yK6Zez"
   },
   "source": [
    "**Q. What have we collected?**\n",
    "We 've collected attributes such as '**marketCap**', '**regularMarketVolume**' and others for companies that we collected in variable '**yf_symbols**'"
   ]
  },
  {
   "cell_type": "code",
   "execution_count": null,
   "metadata": {
    "colab": {
     "base_uri": "https://localhost:8080/",
     "height": 206
    },
    "id": "BTpO_HABw20A",
    "outputId": "e4fcf2a2-dca3-4260-951a-d091d02e62c6"
   },
   "outputs": [],
   "source": [
    "df = pd.DataFrame(stock_financials)\n",
    "df.head()"
   ]
  },
  {
   "cell_type": "code",
   "execution_count": null,
   "metadata": {
    "colab": {
     "base_uri": "https://localhost:8080/"
    },
    "id": "bBuDv3APw4XC",
    "outputId": "127d97f6-f5f1-46a8-9577-50ac2307d3c0"
   },
   "outputs": [],
   "source": [
    "df.shape"
   ]
  },
  {
   "cell_type": "code",
   "execution_count": null,
   "metadata": {
    "colab": {
     "base_uri": "https://localhost:8080/"
    },
    "id": "YG2wHPTcw5rK",
    "outputId": "8d56bf56-a0ee-4678-a7b8-944c9fbe6e81"
   },
   "outputs": [],
   "source": [
    "df.info()"
   ]
  },
  {
   "cell_type": "markdown",
   "metadata": {
    "id": "z0R81ZWmUF3X"
   },
   "source": [
    "**Downloading stock price data**\n",
    "- Purpose of this data: Getting returns of the stocks"
   ]
  },
  {
   "cell_type": "code",
   "execution_count": null,
   "metadata": {
    "colab": {
     "base_uri": "https://localhost:8080/"
    },
    "id": "lNLcjyTSw9NF",
    "outputId": "2da178fe-4625-4a99-a078-f20d684b1ff6"
   },
   "outputs": [],
   "source": [
    "import yfinance as yf\n",
    "\n",
    "stock_prices = yf.download(yf_symbols, start='2020-01-01')['Adj Close']\n",
    "stock_prices.columns = list_of_symbols"
   ]
  },
  {
   "cell_type": "markdown",
   "metadata": {
    "id": "EPlWd_5S7TAv"
   },
   "source": [
    " - 'Adj Close' refers to Adjusted close which is used in stock market. It is the closing price after adjustments for all applicable splits and dividend distributions"
   ]
  },
  {
   "cell_type": "code",
   "execution_count": null,
   "metadata": {
    "colab": {
     "base_uri": "https://localhost:8080/"
    },
    "id": "bg6T2iw8w_wm",
    "outputId": "1c4854e0-faa6-4b0b-d0b8-8adb267dc462"
   },
   "outputs": [],
   "source": [
    "stock_prices.shape"
   ]
  },
  {
   "cell_type": "code",
   "execution_count": null,
   "metadata": {
    "colab": {
     "base_uri": "https://localhost:8080/",
     "height": 435
    },
    "id": "we9HdVCi1VPx",
    "outputId": "8bc90a87-0dfe-4c54-f791-9c979d82710d"
   },
   "outputs": [],
   "source": [
    "stock_prices.tail()"
   ]
  },
  {
   "cell_type": "code",
   "execution_count": null,
   "metadata": {
    "colab": {
     "base_uri": "https://localhost:8080/",
     "height": 693
    },
    "id": "NsXqu5wu1XWz",
    "outputId": "bae93466-10cd-4742-dd0b-32e137506fa4"
   },
   "outputs": [],
   "source": [
    "# splitting data by year - 2020 returns\n",
    "price_2020 = stock_prices.loc[\"2020-01-02 00:00:00\":\"2020-12-31 00:00:00\"]\n",
    "\n",
    "# to see % growth of the stock: ((endDate/startDate) - 1) * 100\n",
    "stock_prices.loc['returns_2020'] = (price_2020.loc['2020-08-04 00:00:00'] / price_2020.loc['2020-01-02 00:00:00'] - 1)*100\n",
    "\n",
    "stock_prices"
   ]
  },
  {
   "cell_type": "code",
   "execution_count": null,
   "metadata": {
    "colab": {
     "base_uri": "https://localhost:8080/",
     "height": 317
    },
    "id": "Ml5htIn61ffI",
    "outputId": "25f064e3-7f94-410d-eb88-5de281240310"
   },
   "outputs": [],
   "source": [
    "stock_prices = stock_prices.transpose()\n",
    "stock_prices.head()"
   ]
  },
  {
   "cell_type": "markdown",
   "metadata": {
    "id": "3ZXTaOFCUF0t"
   },
   "source": [
    "**Putting the data together**"
   ]
  },
  {
   "cell_type": "code",
   "execution_count": null,
   "metadata": {
    "colab": {
     "base_uri": "https://localhost:8080/",
     "height": 270
    },
    "id": "kdhGfDDp1ir-",
    "outputId": "1aaca27e-337a-423f-ce67-c8aed41a7a6a"
   },
   "outputs": [],
   "source": [
    "prices = stock_prices.iloc[:, -1]\n",
    "df.index = stock_prices.index\n",
    "df['return_2020'] = prices\n",
    "df.head()"
   ]
  },
  {
   "cell_type": "markdown",
   "metadata": {
    "id": "kmvErRKR1k9o"
   },
   "source": [
    "**Checking for null values**"
   ]
  },
  {
   "cell_type": "code",
   "execution_count": null,
   "metadata": {
    "colab": {
     "base_uri": "https://localhost:8080/"
    },
    "id": "hKZxOoab1lmh",
    "outputId": "86b9ec3e-3a84-4534-b5af-2302714ea07f"
   },
   "outputs": [],
   "source": [
    "df.isna().sum()"
   ]
  },
  {
   "cell_type": "code",
   "execution_count": null,
   "metadata": {
    "id": "py0ZyI2Y1pto"
   },
   "outputs": [],
   "source": [
    "df['returnOnAssets'] = df['returnOnAssets'].replace(np.nan, 0)"
   ]
  },
  {
   "cell_type": "code",
   "execution_count": null,
   "metadata": {
    "colab": {
     "base_uri": "https://localhost:8080/"
    },
    "id": "j8m72iGS1qXF",
    "outputId": "c23a245c-7b79-47af-84e6-51d18c094381"
   },
   "outputs": [],
   "source": [
    "df.dropna(axis=0, inplace=True)\n",
    "df.shape"
   ]
  },
  {
   "cell_type": "code",
   "execution_count": null,
   "metadata": {
    "colab": {
     "base_uri": "https://localhost:8080/",
     "height": 270
    },
    "id": "9IjiGIfZAEbx",
    "outputId": "2c0696bf-7535-46c8-898d-31fa675ded36"
   },
   "outputs": [],
   "source": [
    "df.head()"
   ]
  },
  {
   "cell_type": "markdown",
   "metadata": {
    "id": "qokCL347155o"
   },
   "source": [
    "**Q. Should we Scale the values?**\n",
    "\n",
    "- The data seems to be in different scales\n",
    "- Different financial metrics have different scales.\n",
    "- We need to put them on the same scale.\n",
    "\n",
    "We can use `StandardScaler` from `sklearn`"
   ]
  },
  {
   "cell_type": "code",
   "execution_count": null,
   "metadata": {
    "id": "WgDzolMV17ZF"
   },
   "outputs": [],
   "source": [
    "from sklearn.preprocessing import StandardScaler\n",
    "\n",
    "scaler = StandardScaler()\n",
    "scaler.fit(df)\n",
    "X = scaler.transform(df)"
   ]
  },
  {
   "cell_type": "code",
   "execution_count": null,
   "metadata": {
    "id": "M-zst_f117XS"
   },
   "outputs": [],
   "source": [
    "scaled_df = pd.DataFrame(X, columns=df.columns, index=df.index)"
   ]
  },
  {
   "cell_type": "code",
   "execution_count": null,
   "metadata": {
    "colab": {
     "base_uri": "https://localhost:8080/",
     "height": 1000
    },
    "id": "aSqE8AtyTLUJ",
    "outputId": "c41c1beb-13e5-4938-9d7e-ad54442559b2"
   },
   "outputs": [],
   "source": [
    "scaled_df"
   ]
  },
  {
   "cell_type": "markdown",
   "metadata": {
    "id": "NeymoOEKwozY"
   },
   "source": [
    "The above data is the same dataset that was used in the lecture for making dendgrogram in Hierarchical Clustering."
   ]
  },
  {
   "cell_type": "markdown",
   "metadata": {
    "id": "gsoL2SOFdAMI"
   },
   "source": [
    "## Pros and Cons of different methods to update Proximity Matrix"
   ]
  },
  {
   "cell_type": "markdown",
   "metadata": {
    "id": "O7RBalxJdGf5"
   },
   "source": [
    "\n",
    "- When computing Proximity Matrix in Agglomerative clustering, different types of distance metrics can be used.\n",
    "\n",
    "**How can one know which one to use?**\n",
    "\n",
    "- Below given are some points where you'll see how different distance metrics can or cannot handle certain distributions of data.\n",
    "\n",
    "- Based on the distribution of your data, or based on the domain you're working on, you'll choose the distance-metric that best fits your data."
   ]
  },
  {
   "cell_type": "markdown",
   "metadata": {
    "id": "IT9P_woNdNQf"
   },
   "source": [
    "\n",
    "###**Minimum Distance**\n",
    "\n",
    "- Can handle non-elliptical shapes\n",
    "<img src=\"https://drive.google.com/uc?export=view&id=1Hpa5f_DXuHlpckvA9TikTT7U7UcrlgeH\">\n",
    "\n",
    "- But, sensitive to noise and outliers\n",
    "<img src=\"https://drive.google.com/uc?export=view&id=1HsIEDFSGeSyMWM4HOskfMit2Vfrt84BD\">"
   ]
  },
  {
   "cell_type": "markdown",
   "metadata": {
    "id": "HbPXgfBHybxS"
   },
   "source": [
    "### **Maximum Distance**\n",
    "\n",
    "- Pros:\n",
    "  - Less susceptible to noise and outliers\n",
    "\n",
    "<img src=\"https://drive.google.com/uc?export=view&id=1gaLw7tsMa1UVxZD0Ly0uvA5Dr_TxLir3\">\n",
    "\n",
    "- Cons:\n",
    "  - It tends to break large clusters\n",
    "  - Biased towards globular clusters\n",
    "  - This was also a limitation of K-Means\n",
    "\n",
    "<img src=\"https://drive.google.com/uc?export=view&id=10NeziNAWbbLQOkNvKhOOTM7BymgFoFbf\">"
   ]
  },
  {
   "cell_type": "markdown",
   "metadata": {
    "id": "cqYKIVCFyefM"
   },
   "source": [
    "### **Tradeoff between MIN and MAX**\n",
    "\n",
    "- Using **Group average**\n",
    "- Using **Wards' Distance** (Scikit-Learn's default linkage in agglomerative clustering)\n",
    "\n",
    "- Pros:\n",
    "  - Less susceptible to noise and outliers\n",
    "- Cons:\n",
    "  - Biased towards globular clusters"
   ]
  }
 ],
 "metadata": {
  "colab": {
   "include_colab_link": true,
   "provenance": [],
   "toc_visible": true
  },
  "kernelspec": {
   "display_name": "Python 3 (ipykernel)",
   "language": "python",
   "name": "python3"
  },
  "language_info": {
   "codemirror_mode": {
    "name": "ipython",
    "version": 3
   },
   "file_extension": ".py",
   "mimetype": "text/x-python",
   "name": "python",
   "nbconvert_exporter": "python",
   "pygments_lexer": "ipython3",
   "version": "3.9.12"
  }
 },
 "nbformat": 4,
 "nbformat_minor": 1
}
